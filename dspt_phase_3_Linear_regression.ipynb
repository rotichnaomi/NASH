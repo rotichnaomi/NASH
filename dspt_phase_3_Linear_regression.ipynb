{
  "nbformat": 4,
  "nbformat_minor": 0,
  "metadata": {
    "colab": {
      "provenance": []
    },
    "kernelspec": {
      "name": "python3",
      "display_name": "Python 3"
    },
    "language_info": {
      "name": "python"
    }
  },
  "cells": [
    {
      "cell_type": "markdown",
      "source": [
        "# Linear regression\n",
        "\n",
        "**Overview of lecture**\n",
        "\n",
        "1. Linear regression  \n",
        "  a. How it works\n",
        "\n",
        "  b. Assumptions of Linear regression\n",
        "\n",
        "  c. How to evaluate linear regression models\n",
        "\n",
        "2. Polynomial regression\n",
        "\n",
        "3. Code example"
      ],
      "metadata": {
        "id": "ZG_E91G-VKYw"
      }
    },
    {
      "cell_type": "markdown",
      "source": [
        "## How linear regression works"
      ],
      "metadata": {
        "id": "vXiAZ055YWkb"
      }
    },
    {
      "cell_type": "markdown",
      "source": [
        "> Linear regression: $$y= mx + c$$\n",
        "\n",
        "establishes the relationship between a dependent variable (also known as the target variable) and one or more independent variables (also known as the predictor variables)\n",
        "\n",
        "> Multivariate or Multiple Linear regression: $$y = m_1x_1 + m_2x_2 + \\ldots + m_nx_n + c$$\n",
        "\n",
        "In multiple linear regression, we have more than one independent variable.\n"
      ],
      "metadata": {
        "id": "oHVRm8K9Yu6D"
      }
    },
    {
      "cell_type": "markdown",
      "source": [
        "## Assumptions of linear regression\n",
        "\n",
        "1. The dependent variable Y should be numeric\n",
        "2. The mean of residuals is (close to) zero\n",
        "3. Homoscedasticity of residuals or equal variance\n",
        "4. The X variables and residuals are uncorrelated\n",
        "5. The number of observations must be greater\n",
        "than number of Xs\n",
        "6. No perfect multicollinearity i.e no perfect linear relationship between variables.\n",
        "7. Normality of residuals\n",
        "\n",
        "These can be summarized as: Linearity, Independence, Homoscedasticity, Normality."
      ],
      "metadata": {
        "id": "zMIsN_dwZPwD"
      }
    },
    {
      "cell_type": "markdown",
      "source": [
        "## How to evaluate regression models\n",
        "\n"
      ],
      "metadata": {
        "id": "vLzIdm30bbRb"
      }
    },
    {
      "cell_type": "markdown",
      "metadata": {
        "id": "yzi0SX8gnTrL"
      },
      "source": [
        "> MSE & RMSE\n",
        "\n",
        "RMSE: $\\sqrt{\\frac{1}{N} \\sum_{i=1}^N(y_i - \\hat{y}_i)^2}$\n",
        "\n",
        "> MAE: \n",
        "\n",
        "$\\frac{1}{N} \\sum_{i=1}^N|y_i - \\hat{y}_i|$\n",
        "\n",
        "> R squared & Adjusted R squared\n",
        "\n",
        "$R^2$ called the coefficient of determination and is a measure of the variation in y explained by the variation in x\n",
        "\n",
        "$R^2 = 1 -\\frac{\\sum_i(y_i - \\hat{y}_i)^2}{\\sum_i(y_i - \\bar{y})^2}$\n",
        "\n",
        "$R^2_{adj} = 1 -\\frac{(1-R^2)(n-1)}{n-k-1}$\n",
        "\n",
        "> Residual plots\n",
        "\n",
        "Residual plots can be used to visually assess the goodness of fit of the regression model. The plot shows the difference between the predicted and actual values of the response variable (i.e., the residuals) against the predictor variable(s). Ideally, the residuals should be randomly scattered around zero, with no obvious patterns or trends.\n",
        "\n"
      ]
    },
    {
      "cell_type": "markdown",
      "source": [
        "# Polynomial regression"
      ],
      "metadata": {
        "id": "jXf0K4-Ubn5d"
      }
    },
    {
      "cell_type": "markdown",
      "source": [
        "> How does it work?\n",
        "\n",
        "$$y = m_1x_1 + m_2x_2^2 + \\ldots + m_nx_n^k + c$$\n",
        "\n",
        "It is a type of regression analysis in which the relationship between the independent variable (or predictor) and the dependent variable (or response) is modeled as an nth degree polynomial function.\n",
        "\n",
        "NOTE: As the degree of the polynomial increases, the model can become **overfit** and lose its ability to generalize well to new data. Therefore, it is important to carefully select the degree of the polynomial that best fits the data."
      ],
      "metadata": {
        "id": "OppDswsvbveV"
      }
    },
    {
      "cell_type": "markdown",
      "source": [
        "# Let's look at an example:"
      ],
      "metadata": {
        "id": "D0j4gaatcqkO"
      }
    },
    {
      "cell_type": "code",
      "source": [
        "# Import needed libraries\n",
        "import numpy as np\n",
        "import matplotlib.pyplot as plt\n",
        "%matplotlib inline\n",
        "colors = ['seagreen','blue', 'darkorange', 'indigo', 'yellow', 'purple', 'violet', 'turquoise']"
      ],
      "metadata": {
        "id": "dunAcM4Nba6g"
      },
      "execution_count": 1,
      "outputs": []
    },
    {
      "cell_type": "code",
      "source": [
        "#Generate data\n",
        "np.random.seed(0)\n",
        "N = 20\n",
        "x_orig = 2 - 3 * np.random.normal(0, 1, N)\n",
        "y_orig = x_orig - 2 * (x_orig ** 2) + 0.5 * (x_orig ** 3) + np.random.normal(-5, 5, N) \n",
        "\n",
        "# transforming the data to include another axis\n",
        "x = x_orig.reshape((20, 1))\n",
        "y = y_orig.reshape((20, 1))\n",
        "print(x.shape, x_orig.shape)\n",
        "plt.scatter(x,y, s=30)\n",
        "plt.show()"
      ],
      "metadata": {
        "colab": {
          "base_uri": "https://localhost:8080/",
          "height": 283
        },
        "id": "KmBsQ3LxYWO_",
        "outputId": "5d9ea58b-0b88-4781-882e-300c1d2514ac"
      },
      "execution_count": 2,
      "outputs": [
        {
          "output_type": "stream",
          "name": "stdout",
          "text": [
            "(20, 1) (20,)\n"
          ]
        },
        {
          "output_type": "display_data",
          "data": {
            "text/plain": [
              "<Figure size 432x288 with 1 Axes>"
            ],
            "image/png": "[encoded data removed]"
          },
          "metadata": {
            "needs_background": "light"
          }
        }
      ]
    },
    {
      "cell_type": "markdown",
      "source": [
        "* Take a look at the scikit-learn user guide for more details on [LinearRegression](https://scikit-learn.org/stable/modules/generated/sklearn.linear_model.LinearRegression.html)"
      ],
      "metadata": {
        "id": "4GUyIhl_gQKM"
      }
    },
    {
      "cell_type": "code",
      "source": [
        "#linear regression model to this dataset.\n",
        "from sklearn.linear_model import LinearRegression\n",
        "from sklearn.metrics import mean_squared_error, r2_score"
      ],
      "metadata": {
        "id": "MxbOw6lygP27"
      },
      "execution_count": 3,
      "outputs": []
    },
    {
      "cell_type": "code",
      "source": [
        "# instantiate the Linear model\n",
        "model = LinearRegression()\n",
        "\n",
        "# Use the method fit to train the model with input data x and output y\n",
        "model.fit(x, y)\n",
        "\n",
        "# Use the trained model to predict output y_pred from input x\n",
        "y_pred = model.predict(x)\n",
        "\n",
        "# plot the model\n",
        "plt.scatter(x, y, s=40)\n",
        "plt.title('Linear Regression')\n",
        "plt.plot(x, y_pred, color=colors[0],label='lineareg')\n",
        "plt.legend(loc=\"lower right\")\n",
        "plt.show()\n",
        "\n",
        "# Performance metrics\n",
        "rmse = np.sqrt(mean_squared_error(y,y_pred))\n",
        "r2 = r2_score(y,y_pred)\n",
        "print('rmse:',rmse)\n",
        "print('r2  :', r2)"
      ],
      "metadata": {
        "colab": {
          "base_uri": "https://localhost:8080/",
          "height": 317
        },
        "id": "8Jt7Bra0VJsx",
        "outputId": "28affd15-a03e-4e59-85b6-f2afe34cc45b"
      },
      "execution_count": 4,
      "outputs": [
        {
          "output_type": "display_data",
          "data": {
            "text/plain": [
              "<Figure size 432x288 with 1 Axes>"
            ],
            "image/png": "[encoded data removed]"
          },
          "metadata": {
            "needs_background": "light"
          }
        },
        {
          "output_type": "stream",
          "name": "stdout",
          "text": [
            "rmse: 16.924817575403132\n",
            "r2  : 0.6049187123282771\n"
          ]
        }
      ]
    },
    {
      "cell_type": "code",
      "source": [
        "model.coef_"
      ],
      "metadata": {
        "colab": {
          "base_uri": "https://localhost:8080/"
        },
        "id": "jMkVwD7WURXl",
        "outputId": "ca7df641-b15a-459c-98f8-1fb14ed04245"
      },
      "execution_count": 5,
      "outputs": [
        {
          "output_type": "execute_result",
          "data": {
            "text/plain": [
              "array([[8.21099346]])"
            ]
          },
          "metadata": {},
          "execution_count": 5
        }
      ]
    },
    {
      "cell_type": "code",
      "source": [
        "model.intercept_"
      ],
      "metadata": {
        "colab": {
          "base_uri": "https://localhost:8080/"
        },
        "id": "QNAzlcWKUWay",
        "outputId": "2b21dbc3-bd82-4c16-c07b-0cd7e4ba1717"
      },
      "execution_count": 6,
      "outputs": [
        {
          "output_type": "execute_result",
          "data": {
            "text/plain": [
              "array([-18.6611832])"
            ]
          },
          "metadata": {},
          "execution_count": 6
        }
      ]
    },
    {
      "cell_type": "markdown",
      "source": [
        "**Conclusion**: You can observe that the straight line is unable to capture the patterns in the data. This is an example of **under-fitting**."
      ],
      "metadata": {
        "id": "zr6PWUsggu9S"
      }
    },
    {
      "cell_type": "markdown",
      "source": [
        "To overcome under-fitting, we need to **increase the complexity of the model**.  \n",
        "**Idea**: convert the original features into their higher order terms we will use the **PolynomialFeatures** class provided by **scikit-learn**. Next, we train the model using Linear Regression."
      ],
      "metadata": {
        "id": "GK5Yvh9Eg35T"
      }
    },
    {
      "cell_type": "code",
      "source": [
        "from sklearn.preprocessing import PolynomialFeatures\n",
        "import operator"
      ],
      "metadata": {
        "id": "rkS5Db0ZhWs_"
      },
      "execution_count": 7,
      "outputs": []
    },
    {
      "cell_type": "code",
      "source": [
        "model = LinearRegression()\n",
        "\n",
        "plt.figure(figsize=(15,4))\n",
        "# Create Polynomial features with degree 1, then 4 then, 10 (from original input x => (x^0, x^1, ...x^degree) \n",
        "for i,degree in enumerate([1,4,10]):\n",
        "    print('instance:{}: poly_degree: {}'.format(i,degree))\n",
        "    # Create an instance of class PolynomialFeatures\n",
        "    polynomial_features = PolynomialFeatures(degree=degree)\n",
        "\n",
        "    # Use fit_transform method of class PolynomialFeatures to create new features vector x_poly\n",
        "    x_poly = polynomial_features.fit_transform(x)\n",
        "\n",
        "    # Train the model using the polynomial features vector x_poly and output y\n",
        "    model.fit(x_poly, y)\n",
        "\n",
        "    # Use the trained model to predict output from vector x_poly\n",
        "    y_poly_pred = model.predict(x_poly)\n",
        "    #print(x, x_poly)\n",
        "\n",
        "    # Performance\n",
        "    rmse = np.sqrt(mean_squared_error(y,y_poly_pred))\n",
        "    r2 = r2_score(y,y_poly_pred)\n",
        "    print('rmse =',rmse)\n",
        "    print('r2 =',r2)\n",
        "    # plot\n",
        "    plt.subplot(1,3,1+i)\n",
        "    plt.scatter(x, y, s=40)\n",
        "    # sort the values of x before line plot\n",
        "    sort_axis = operator.itemgetter(0)\n",
        "    sorted_zip = sorted(zip(x,y_poly_pred), key=sort_axis)\n",
        "    x, y_poly_pred = zip(*sorted_zip)\n",
        "    plt.plot(x, y_poly_pred, color=colors[i], label='degree='+str(degree))\n",
        "    plt.title('Polynomial Regression')\n",
        "    plt.legend(loc=\"lower right\")\n",
        "plt.show()\n",
        "\n",
        "print('poly_features')\n",
        "print('without poly_features:', x[0])\n",
        "print('adding  poly_features:', x_poly[0])"
      ],
      "metadata": {
        "colab": {
          "base_uri": "https://localhost:8080/",
          "height": 530
        },
        "id": "ZPRJ7UHhVJJA",
        "outputId": "00fc1c44-012c-49f2-9a10-129eb00870d0"
      },
      "execution_count": 8,
      "outputs": [
        {
          "output_type": "stream",
          "name": "stdout",
          "text": [
            "instance:0: poly_degree: 1\n",
            "rmse = 16.924817575403132\n",
            "r2 = 0.6049187123282771\n",
            "instance:1: poly_degree: 4\n",
            "rmse = 23.351949785883676\n",
            "r2 = 0.24788411000233368\n",
            "instance:2: poly_degree: 10\n",
            "rmse = 12.268954915107912\n",
            "r2 = 0.7923874469709541\n"
          ]
        },
        {
          "output_type": "display_data",
          "data": {
            "text/plain": [
              "<Figure size 1080x288 with 3 Axes>"
            ],
            "image/png": "[encoded data removed]"
          },
          "metadata": {
            "needs_background": "light"
          }
        },
        {
          "output_type": "stream",
          "name": "stdout",
          "text": [
            "poly_features\n",
            "without poly_features: [-4.7226796]\n",
            "adding  poly_features: [ 1.00000000e+00 -4.72267960e+00  2.23037026e+01 -1.05333241e+02\n",
            "  4.97455149e+02 -2.34932128e+03  1.10950917e+04 -5.23985631e+04\n",
            "  2.47461625e+05 -1.16868197e+06  5.51931049e+06]\n"
          ]
        }
      ]
    },
    {
      "cell_type": "markdown",
      "source": [
        "**Conclusion**: You can observe that with Polynomial Regression (adding polynomial features), we increase the complexity of the model to capture the patterns in the data. Unfortunately, increasing the degree will lead to **over-fitting**."
      ],
      "metadata": {
        "id": "U-MDXJy6je9B"
      }
    },
    {
      "cell_type": "markdown",
      "source": [
        "## Implement your own linear regression\n",
        "\n",
        "The Delivery Time Data\n",
        "A soft drink bottler is analyzing the vending machine service routes in his distribution system. He\n",
        "is interested in predicting the amount of time required by the route driver to service the vending\n",
        "machines in an outlet. This service activity includes stocking the machine with beverage products\n",
        "and minor maintenance or housekeeping. The industrial engineer responsible for the study has\n",
        "suggested that the two most important variables affecting the delivery time (y) are the number of\n",
        "cases of product stocked (x1), and the distance walked by the route driver (x2). The engineer has\n",
        "collected 25 observations on delivery time. Fit a regression model on this data"
      ],
      "metadata": {
        "id": "1DsPD1W9jm19"
      }
    },
    {
      "cell_type": "code",
      "source": [
        "y = [16.68,11.50,12.03,14.88,13.75,\n",
        "18.11,8.00,17.83,79.24,21.50,\n",
        "40.33,21.00,13.50,19.75,24.00,\n",
        "29.00,15.35,19.00,9.50,35.10,\n",
        "17.90,52.32,18.75,19.83,10.75] # Delivery Time(Minutes)\n",
        "\n",
        "x1 = [7,3,3,4,6,\n",
        "7,2,7,30,5,\n",
        "16,10,4,6,9,\n",
        "10,6,7,3,17,\n",
        "10,26,9,8,4] # Number of cases\n",
        "\n",
        "x2 = [560,220,340,80,150,\n",
        "330,110,210,1460,605,\n",
        "688,215,255,462,448,\n",
        "776,200,132,36,770,\n",
        "140,810,450,635,150] # Distance (Feet)"
      ],
      "metadata": {
        "id": "8FdG7PvYjqA9"
      },
      "execution_count": 10,
      "outputs": []
    },
    {
      "cell_type": "code",
      "source": [
        "import pandas as pd\n",
        "data = {'Delivery Time (Minutes)': y, \n",
        "\n",
        "        'Number of Cases': x1,\n",
        "        'Distance (Feet)': x2}\n",
        "\n",
        "df = pd.DataFrame(data)\n",
        "print(df)"
      ],
      "metadata": {
        "id": "8sM4Lloro0Fa",
        "outputId": "5fce6e20-c86a-4fd5-abce-2d8d3d0a12a4",
        "colab": {
          "base_uri": "https://localhost:8080/"
        }
      },
      "execution_count": 12,
      "outputs": [
        {
          "output_type": "stream",
          "name": "stdout",
          "text": [
            "    Delivery Time (Minutes)  Number of Cases  Distance (Feet)\n",
            "0                     16.68                7              560\n",
            "1                     11.50                3              220\n",
            "2                     12.03                3              340\n",
            "3                     14.88                4               80\n",
            "4                     13.75                6              150\n",
            "5                     18.11                7              330\n",
            "6                      8.00                2              110\n",
            "7                     17.83                7              210\n",
            "8                     79.24               30             1460\n",
            "9                     21.50                5              605\n",
            "10                    40.33               16              688\n",
            "11                    21.00               10              215\n",
            "12                    13.50                4              255\n",
            "13                    19.75                6              462\n",
            "14                    24.00                9              448\n",
            "15                    29.00               10              776\n",
            "16                    15.35                6              200\n",
            "17                    19.00                7              132\n",
            "18                     9.50                3               36\n",
            "19                    35.10               17              770\n",
            "20                    17.90               10              140\n",
            "21                    52.32               26              810\n",
            "22                    18.75                9              450\n",
            "23                    19.83                8              635\n",
            "24                    10.75                4              150\n"
          ]
        }
      ]
    },
    {
      "cell_type": "code",
      "source": [
        "plt.scatter(df['Number of Cases'], df['Delivery Time (Minutes)'], color = 'blue')\n",
        "plt.xlabel('Number of Cases')\n",
        "plt.ylabel('Delivery Time (Minutes)')\n",
        "plt.title('Scatter plot for y and x1')\n",
        "plt.show()\n"
      ],
      "metadata": {
        "id": "WiaNBqJxX3uY",
        "outputId": "265d2f61-0e8e-4958-9821-ef5df950a692",
        "colab": {
          "base_uri": "https://localhost:8080/",
          "height": 295
        }
      },
      "execution_count": 18,
      "outputs": [
        {
          "output_type": "display_data",
          "data": {
            "text/plain": [
              "<Figure size 432x288 with 1 Axes>"
            ],
            "image/png": "[encoded data removed]"
          },
          "metadata": {
            "needs_background": "light"
          }
        }
      ]
    },
    {
      "cell_type": "code",
      "source": [
        "plt.scatter(df['Distance (Feet)'], df['Delivery Time (Minutes)'], color = 'blue')\n",
        "plt.xlabel('Distance (Feet)')\n",
        "plt.ylabel('Delivery Time (Minutes)')\n",
        "plt.title('Scatter plot for y and x2')\n",
        "plt.show()"
      ],
      "metadata": {
        "id": "Ynui2SHDkC0X",
        "outputId": "98d95378-dfe1-4fe0-a324-a6384bce2a78",
        "colab": {
          "base_uri": "https://localhost:8080/",
          "height": 295
        }
      },
      "execution_count": 19,
      "outputs": [
        {
          "output_type": "display_data",
          "data": {
            "text/plain": [
              "<Figure size 432x288 with 1 Axes>"
            ],
            "image/png": "[encoded data removed]"
          },
          "metadata": {
            "needs_background": "light"
          }
        }
      ]
    },
    {
      "cell_type": "code",
      "source": [],
      "metadata": {
        "id": "qYLUqAZBkfHg"
      },
      "execution_count": null,
      "outputs": []
    },
    {
      "cell_type": "code",
      "source": [
        "import statsmodels.api as sm\n",
        "# Define the predictors and response variables\n",
        "X = df[['Number of Cases', 'Distance (Feet)']]\n",
        "y = df['Delivery Time (Minutes)']\n",
        "\n",
        "# Add a constant to the predictors\n",
        "X = sm.add_constant(X)\n",
        "\n",
        "# Create the model and fit it using ordinary least squares (OLS)\n",
        "model = sm.OLS(y, X).fit()\n",
        "\n",
        "# Print the summary of the model\n",
        "print(model.summary())"
      ],
      "metadata": {
        "id": "b_i2wtDTY-bj",
        "outputId": "7896f0b5-3262-4650-d36a-da77479e0253",
        "colab": {
          "base_uri": "https://localhost:8080/"
        }
      },
      "execution_count": 15,
      "outputs": [
        {
          "output_type": "stream",
          "name": "stdout",
          "text": [
            "                               OLS Regression Results                              \n",
            "===================================================================================\n",
            "Dep. Variable:     Delivery Time (Minutes)   R-squared:                       0.960\n",
            "Model:                                 OLS   Adj. R-squared:                  0.956\n",
            "Method:                      Least Squares   F-statistic:                     261.2\n",
            "Date:                     Thu, 09 Mar 2023   Prob (F-statistic):           4.69e-16\n",
            "Time:                             17:23:16   Log-Likelihood:                -63.415\n",
            "No. Observations:                       25   AIC:                             132.8\n",
            "Df Residuals:                           22   BIC:                             136.5\n",
            "Df Model:                                2                                         \n",
            "Covariance Type:                 nonrobust                                         \n",
            "===================================================================================\n",
            "                      coef    std err          t      P>|t|      [0.025      0.975]\n",
            "-----------------------------------------------------------------------------------\n",
            "const               2.3412      1.097      2.135      0.044       0.067       4.616\n",
            "Number of Cases     1.6159      0.171      9.464      0.000       1.262       1.970\n",
            "Distance (Feet)     0.0144      0.004      3.981      0.001       0.007       0.022\n",
            "==============================================================================\n",
            "Omnibus:                        0.421   Durbin-Watson:                   1.170\n",
            "Prob(Omnibus):                  0.810   Jarque-Bera (JB):                0.010\n",
            "Skew:                           0.032   Prob(JB):                        0.995\n",
            "Kurtosis:                       3.073   Cond. No.                         873.\n",
            "==============================================================================\n",
            "\n",
            "Notes:\n",
            "[1] Standard Errors assume that the covariance matrix of the errors is correctly specified.\n"
          ]
        }
      ]
    },
    {
      "cell_type": "code",
      "source": [],
      "metadata": {
        "id": "SBZz1hJuZfq5"
      },
      "execution_count": 17,
      "outputs": []
    },
    {
      "cell_type": "code",
      "source": [],
      "metadata": {
        "id": "ncf-0kk0ZtES"
      },
      "execution_count": null,
      "outputs": []
    }
  ]
}